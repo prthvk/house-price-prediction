{
 "cells": [
  {
   "cell_type": "code",
   "execution_count": null,
   "id": "b957c5cf",
   "metadata": {},
   "outputs": [],
   "source": [
    "import pandas as pd\n",
    "from sklearn.ensemble import RandomForestRegressor\n",
    "from sklearn.metrics import mean_absolute_error\n",
    "from sklearn.model_selection import train_test_split"
   ]
  },
  {
   "cell_type": "code",
   "execution_count": 1,
   "id": "cathedral-frame",
   "metadata": {
    "execution": {
     "iopub.execute_input": "2021-06-22T19:33:53.892835Z",
     "iopub.status.busy": "2021-06-22T19:33:53.892219Z",
     "iopub.status.idle": "2021-06-22T19:33:53.942320Z",
     "shell.execute_reply": "2021-06-22T19:33:53.940787Z",
     "shell.execute_reply.started": "2021-06-22T17:51:07.832732Z"
    },
    "papermill": {
     "duration": 0.063996,
     "end_time": "2021-06-22T19:33:53.942483",
     "exception": false,
     "start_time": "2021-06-22T19:33:53.878487",
     "status": "completed"
    },
    "tags": []
   },
   "outputs": [],
   "source": [
    "# Set up code checking\n",
    "from learntools.core import binder\n",
    "binder.bind(globals())\n",
    "from learntools.machine_learning.ex7 import *\n",
    "\n",
    "# Set up filepaths\n",
    "import os\n",
    "if not os.path.exists(\"../input/train.csv\"):\n",
    "    os.symlink(\"../input/home-data-for-ml-course/train.csv\", \"../input/train.csv\")  \n",
    "    os.symlink(\"../input/home-data-for-ml-course/test.csv\", \"../input/test.csv\") "
   ]
  },
  {
   "cell_type": "code",
   "execution_count": 2,
   "id": "federal-westminster",
   "metadata": {
    "execution": {
     "iopub.execute_input": "2021-06-22T19:33:53.980684Z",
     "iopub.status.busy": "2021-06-22T19:33:53.980025Z",
     "iopub.status.idle": "2021-06-22T19:33:55.973497Z",
     "shell.execute_reply": "2021-06-22T19:33:55.973969Z",
     "shell.execute_reply.started": "2021-06-22T19:32:10.815587Z"
    },
    "papermill": {
     "duration": 2.008522,
     "end_time": "2021-06-22T19:33:55.974158",
     "exception": false,
     "start_time": "2021-06-22T19:33:53.965636",
     "status": "completed"
    },
    "tags": []
   },
   "outputs": [
    {
     "name": "stdout",
     "output_type": "stream",
     "text": [
      "Number of NaN items = MiscVal         0\n",
      "GrLivArea       0\n",
      "YearBuilt       0\n",
      "OverallQual     0\n",
      "MSSubClass      0\n",
      "LotArea         0\n",
      "YearRemodAdd    0\n",
      "OverallCond     0\n",
      "FullBath        0\n",
      "Fireplaces      0\n",
      "BedroomAbvGr    0\n",
      "1stFlrSF        0\n",
      "2ndFlrSF        0\n",
      "WoodDeckSF      0\n",
      "PoolArea        0\n",
      "dtype: int64\n",
      "Validation MAE for Random Forest Model: 17,098\n"
     ]
    }
   ],
   "source": [
    "# Load the data, and separate the target\n",
    "iowa_file_path = '../input/train.csv'\n",
    "home_data = pd.read_csv(iowa_file_path)\n",
    "y = home_data.SalePrice\n",
    "\n",
    "# Create X (After completing the exercise, you can return to modify this line!)\n",
    "#features = ['LotArea', 'YearBuilt', '1stFlrSF', '2ndFlrSF', 'FullBath', 'BedroomAbvGr', 'TotRmsAbvGrd']\n",
    "features = ['MiscVal','GrLivArea','YearBuilt','OverallQual','MSSubClass','LotArea','YearRemodAdd','OverallCond','FullBath','Fireplaces','BedroomAbvGr','1stFlrSF', '2ndFlrSF','WoodDeckSF','PoolArea']\n",
    "\n",
    "\n",
    "# Select columns corresponding to features, and preview the data\n",
    "X = home_data[features]\n",
    "print('Number of NaN items =', X.isnull().sum())\n",
    "#print(pd.isnull(X))\n",
    "\n",
    "# Split into validation and training data\n",
    "train_X, val_X, train_y, val_y = train_test_split(X, y, random_state=1)\n",
    "\n",
    "# Define a random forest model\n",
    "rf_model = RandomForestRegressor(random_state=1)\n",
    "rf_model.fit(train_X, train_y)\n",
    "rf_val_predictions = rf_model.predict(val_X)\n",
    "rf_val_mae = mean_absolute_error(rf_val_predictions, val_y)\n",
    "\n",
    "print(\"Validation MAE for Random Forest Model: {:,.0f}\".format(rf_val_mae))"
   ]
  },
  {
   "cell_type": "code",
   "execution_count": 3,
   "id": "fluid-decrease",
   "metadata": {
    "execution": {
     "iopub.execute_input": "2021-06-22T19:33:56.019048Z",
     "iopub.status.busy": "2021-06-22T19:33:56.013098Z",
     "iopub.status.idle": "2021-06-22T19:33:56.787844Z",
     "shell.execute_reply": "2021-06-22T19:33:56.787340Z",
     "shell.execute_reply.started": "2021-06-22T19:33:26.152077Z"
    },
    "papermill": {
     "duration": 0.788756,
     "end_time": "2021-06-22T19:33:56.787974",
     "exception": false,
     "start_time": "2021-06-22T19:33:55.999218",
     "status": "completed"
    },
    "tags": []
   },
   "outputs": [
    {
     "data": {
      "text/plain": [
       "RandomForestRegressor(random_state=1)"
      ]
     },
     "execution_count": 3,
     "metadata": {},
     "output_type": "execute_result"
    }
   ],
   "source": [
    "# To improve accuracy, create a new Random Forest model which you will train on all training data\n",
    "rf_model_on_full_data = RandomForestRegressor(random_state=1)\n",
    "\n",
    "# fit rf_model_on_full_data on all data from the training data\n",
    "rf_model_on_full_data.fit(X,y)"
   ]
  },
  {
   "cell_type": "code",
   "execution_count": 4,
   "id": "latest-weather",
   "metadata": {
    "execution": {
     "iopub.execute_input": "2021-06-22T19:33:56.824615Z",
     "iopub.status.busy": "2021-06-22T19:33:56.823955Z",
     "iopub.status.idle": "2021-06-22T19:33:56.902696Z",
     "shell.execute_reply": "2021-06-22T19:33:56.903098Z",
     "shell.execute_reply.started": "2021-06-22T19:33:28.415054Z"
    },
    "papermill": {
     "duration": 0.09012,
     "end_time": "2021-06-22T19:33:56.903291",
     "exception": false,
     "start_time": "2021-06-22T19:33:56.813171",
     "status": "completed"
    },
    "tags": []
   },
   "outputs": [
    {
     "name": "stdout",
     "output_type": "stream",
     "text": [
      "Number of NaN items = MiscVal         0\n",
      "GrLivArea       0\n",
      "YearBuilt       0\n",
      "OverallQual     0\n",
      "MSSubClass      0\n",
      "LotArea         0\n",
      "YearRemodAdd    0\n",
      "OverallCond     0\n",
      "FullBath        0\n",
      "Fireplaces      0\n",
      "BedroomAbvGr    0\n",
      "1stFlrSF        0\n",
      "2ndFlrSF        0\n",
      "WoodDeckSF      0\n",
      "PoolArea        0\n",
      "dtype: int64\n"
     ]
    }
   ],
   "source": [
    "# path to file you will use for predictions\n",
    "test_data_path = '../input/test.csv'\n",
    "\n",
    "# read test data file using pandas\n",
    "test_data = pd.read_csv(test_data_path)\n",
    "\n",
    "# create test_X which comes from test_data but includes only the columns you used for prediction.\n",
    "# The list of columns is stored in a variable called features\n",
    "test_X = test_data[features]\n",
    "print('Number of NaN items =', test_X.isnull().sum())\n",
    "# make predictions which we will submit. \n",
    "test_preds = rf_model_on_full_data.predict(test_X)"
   ]
  },
  {
   "cell_type": "code",
   "execution_count": 5,
   "id": "plain-advice",
   "metadata": {
    "execution": {
     "iopub.execute_input": "2021-06-22T19:33:56.944575Z",
     "iopub.status.busy": "2021-06-22T19:33:56.943956Z",
     "iopub.status.idle": "2021-06-22T19:33:56.951789Z",
     "shell.execute_reply": "2021-06-22T19:33:56.952245Z",
     "shell.execute_reply.started": "2021-06-22T19:33:30.944839Z"
    },
    "papermill": {
     "duration": 0.021706,
     "end_time": "2021-06-22T19:33:56.952446",
     "exception": false,
     "start_time": "2021-06-22T19:33:56.930740",
     "status": "completed"
    },
    "tags": []
   },
   "outputs": [
    {
     "data": {
      "application/javascript": "parent.postMessage({\"jupyterEvent\": \"custom.exercise_interaction\", \"data\": {\"outcomeType\": 1, \"valueTowardsCompletion\": 1.0, \"interactionType\": 1, \"questionType\": 2, \"questionId\": \"1_CheckSubmittablePreds\", \"learnToolsVersion\": \"0.3.4\", \"failureMessage\": \"\", \"exceptionClass\": \"\", \"trace\": \"\"}}, \"*\")",
      "text/plain": [
       "<IPython.core.display.Javascript object>"
      ]
     },
     "metadata": {},
     "output_type": "display_data"
    },
    {
     "data": {
      "text/markdown": [
       "<span style=\"color:#33cc33\">Correct</span>"
      ],
      "text/plain": [
       "Correct"
      ]
     },
     "metadata": {},
     "output_type": "display_data"
    },
    {
     "data": {
      "application/javascript": "parent.postMessage({\"jupyterEvent\": \"custom.exercise_interaction\", \"data\": {\"interactionType\": 3, \"questionType\": 2, \"questionId\": \"1_CheckSubmittablePreds\", \"learnToolsVersion\": \"0.3.4\", \"valueTowardsCompletion\": 0.0, \"failureMessage\": \"\", \"exceptionClass\": \"\", \"trace\": \"\", \"outcomeType\": 4}}, \"*\")",
      "text/plain": [
       "<IPython.core.display.Javascript object>"
      ]
     },
     "metadata": {},
     "output_type": "display_data"
    },
    {
     "data": {
      "text/markdown": [
       "<span style=\"color:#33cc99\">Solution:</span> \n",
       "```python\n",
       "\n",
       "# In previous code cell\n",
       "rf_model_on_full_data = RandomForestRegressor()\n",
       "rf_model_on_full_data.fit(X, y)\n",
       "\n",
       "# Then in last code cell\n",
       "test_data_path = '../input/home-data-for-ml-course/test.csv'\n",
       "test_data = pd.read_csv(test_data_path)\n",
       "test_X = test_data[features]\n",
       "test_preds = rf_model_on_full_data.predict(test_X)\n",
       "\n",
       "\n",
       "output = pd.DataFrame({'Id': test_data.Id,\n",
       "                       'SalePrice': test_preds})\n",
       "output.to_csv('submission.csv', index=False)\n",
       "\n",
       "```"
      ],
      "text/plain": [
       "Solution: \n",
       "```python\n",
       "\n",
       "# In previous code cell\n",
       "rf_model_on_full_data = RandomForestRegressor()\n",
       "rf_model_on_full_data.fit(X, y)\n",
       "\n",
       "# Then in last code cell\n",
       "test_data_path = '../input/home-data-for-ml-course/test.csv'\n",
       "test_data = pd.read_csv(test_data_path)\n",
       "test_X = test_data[features]\n",
       "test_preds = rf_model_on_full_data.predict(test_X)\n",
       "\n",
       "\n",
       "output = pd.DataFrame({'Id': test_data.Id,\n",
       "                       'SalePrice': test_preds})\n",
       "output.to_csv('submission.csv', index=False)\n",
       "\n",
       "```"
      ]
     },
     "metadata": {},
     "output_type": "display_data"
    }
   ],
   "source": [
    "# Check your answer (To get credit for completing the exercise, you must get a \"Correct\" result!)\n",
    "step_1.check()\n",
    "step_1.solution()"
   ]
  },
  {
   "cell_type": "code",
   "execution_count": 6,
   "id": "alive-republic",
   "metadata": {
    "execution": {
     "iopub.execute_input": "2021-06-22T19:33:57.005545Z",
     "iopub.status.busy": "2021-06-22T19:33:57.004600Z",
     "iopub.status.idle": "2021-06-22T19:33:57.018024Z",
     "shell.execute_reply": "2021-06-22T19:33:57.016948Z",
     "shell.execute_reply.started": "2021-06-22T17:11:05.257168Z"
    },
    "papermill": {
     "duration": 0.030426,
     "end_time": "2021-06-22T19:33:57.018281",
     "exception": false,
     "start_time": "2021-06-22T19:33:56.987855",
     "status": "completed"
    },
    "tags": []
   },
   "outputs": [],
   "source": [
    "# Run the code to save predictions in the format used for competition scoring\n",
    "\n",
    "output = pd.DataFrame({'Id': test_data.Id,\n",
    "                       'SalePrice': test_preds})\n",
    "output.to_csv('submission.csv', index=False)"
   ]
  }
 ],
 "metadata": {
  "kernelspec": {
   "display_name": "Python 3",
   "language": "python",
   "name": "python3"
  },
  "language_info": {
   "codemirror_mode": {
    "name": "ipython",
    "version": 3
   },
   "file_extension": ".py",
   "mimetype": "text/x-python",
   "name": "python",
   "nbconvert_exporter": "python",
   "pygments_lexer": "ipython3",
   "version": "3.7.9"
  },
  "papermill": {
   "default_parameters": {},
   "duration": 9.456307,
   "end_time": "2021-06-22T19:33:57.699512",
   "environment_variables": {},
   "exception": null,
   "input_path": "__notebook__.ipynb",
   "output_path": "__notebook__.ipynb",
   "parameters": {},
   "start_time": "2021-06-22T19:33:48.243205",
   "version": "2.3.2"
  }
 },
 "nbformat": 4,
 "nbformat_minor": 5
}
